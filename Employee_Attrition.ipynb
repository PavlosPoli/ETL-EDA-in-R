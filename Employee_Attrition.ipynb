{
 "cells": [
  {
   "cell_type": "code",
   "execution_count": null,
   "metadata": {},
   "outputs": [],
   "source": [
    "# Import required libraries\n",
    "import os as os\n",
    "import pandas as pd\n",
    "import numpy as np\n",
    "import matplotlib.pyplot as plt\n",
    "import seaborn as sns\n",
    "import warnings\n",
    "warnings.filterwarnings('ignore')"
   ]
  },
  {
   "cell_type": "code",
   "execution_count": null,
   "metadata": {},
   "outputs": [],
   "source": [
    "# Set environment\n",
    "np.random.seed(1234)\n",
    "pd.set_option('display.max_columns', None)\n",
    "os.chdir('E:/backup17092018/Myappdir/Myprojects/Data Science/Python Employee Attrition')\n",
    "os.getcwd()"
   ]
  },
  {
   "cell_type": "code",
   "execution_count": null,
   "metadata": {},
   "outputs": [],
   "source": [
    "# Read the .csv file\n",
    "file_name = ('HR-Employee-Attrition.csv')\n",
    "df = pd.read_csv(file_name)"
   ]
  },
  {
   "cell_type": "markdown",
   "metadata": {},
   "source": [
    "Data Wrangling"
   ]
  },
  {
   "cell_type": "code",
   "execution_count": null,
   "metadata": {},
   "outputs": [],
   "source": [
    "df.head()"
   ]
  },
  {
   "cell_type": "code",
   "execution_count": null,
   "metadata": {},
   "outputs": [],
   "source": [
    "# Glimpse of the dataset\n",
    "df.dtypes"
   ]
  },
  {
   "cell_type": "code",
   "execution_count": null,
   "metadata": {},
   "outputs": [],
   "source": [
    "df.shape"
   ]
  },
  {
   "cell_type": "code",
   "execution_count": null,
   "metadata": {},
   "outputs": [],
   "source": [
    "df.dtypes.value_counts()"
   ]
  },
  {
   "cell_type": "code",
   "execution_count": null,
   "metadata": {},
   "outputs": [],
   "source": [
    "df.head(5)"
   ]
  },
  {
   "cell_type": "code",
   "execution_count": null,
   "metadata": {},
   "outputs": [],
   "source": [
    "df.tail(5)"
   ]
  },
  {
   "cell_type": "code",
   "execution_count": null,
   "metadata": {},
   "outputs": [],
   "source": [
    "df.info()"
   ]
  },
  {
   "cell_type": "code",
   "execution_count": null,
   "metadata": {},
   "outputs": [],
   "source": [
    "df.describe(include = 'all')"
   ]
  },
  {
   "cell_type": "code",
   "execution_count": null,
   "metadata": {},
   "outputs": [],
   "source": [
    "df2 = df"
   ]
  },
  {
   "cell_type": "code",
   "execution_count": null,
   "metadata": {},
   "outputs": [],
   "source": [
    "# Separate categorical and numerical columns\n",
    "cat_cols = df2.select_dtypes(include=['object']).columns\n",
    "num_cols = df2.select_dtypes(include=['int64']).columns\n",
    "print(\"String fields:\")\n",
    "print(cat_cols)\n",
    "print(\"Numerical fields:\")\n",
    "print(num_cols)"
   ]
  },
  {
   "cell_type": "code",
   "execution_count": null,
   "metadata": {},
   "outputs": [],
   "source": [
    "# Column names: remove starting and ending white spaces and convert to lower case\n",
    "# df.columns = df.columns.str.strip().str.lower().str.replace(' ,-', '_')\n",
    "df2.columns = df2.columns.str.replace(' ', '_')"
   ]
  },
  {
   "cell_type": "code",
   "execution_count": null,
   "metadata": {},
   "outputs": [],
   "source": [
    "df2.columns"
   ]
  },
  {
   "cell_type": "code",
   "execution_count": null,
   "metadata": {},
   "outputs": [],
   "source": [
    "# Remove empty rows/columns\n",
    "df2.dropna(how=\"all\", axis=0, inplace=True) # Rows\n",
    "df2.dropna(how=\"all\", axis=1, inplace=True) # Columns\n",
    "df2.shape"
   ]
  },
  {
   "cell_type": "code",
   "execution_count": null,
   "metadata": {},
   "outputs": [],
   "source": [
    "# Remove duplicate rows\n",
    "df2.drop_duplicates(keep='first', inplace=True)\n",
    "df2.shape"
   ]
  },
  {
   "cell_type": "code",
   "execution_count": null,
   "metadata": {},
   "outputs": [],
   "source": [
    "# Trim extra spaces from categorical columns\n",
    "df2[cat_cols] = df2[cat_cols].apply(lambda x: x.str.strip())"
   ]
  },
  {
   "cell_type": "code",
   "execution_count": null,
   "metadata": {},
   "outputs": [],
   "source": [
    "# Count unique values\n",
    "df2.nunique().sort_values()"
   ]
  },
  {
   "cell_type": "code",
   "execution_count": null,
   "metadata": {},
   "outputs": [],
   "source": [
    "# Show a sample of unique values for each column\n",
    "print(df2.apply(lambda col: col.unique()))"
   ]
  },
  {
   "cell_type": "code",
   "execution_count": null,
   "metadata": {},
   "outputs": [],
   "source": [
    "# Check for nulls\n",
    "percent_missing = df2.isnull().sum() * 100 / len(df)\n",
    "missing_value_df2 = pd.DataFrame({'percent_missing': percent_missing})\n",
    "missing_value_df2"
   ]
  },
  {
   "cell_type": "code",
   "execution_count": null,
   "metadata": {},
   "outputs": [],
   "source": [
    "# Replace numerical nulls with mean\n",
    "df2 = df2.apply(lambda num_col: num_col.replace(np.nan, np.mean(num_col)) if np.issubdtype(num_col.dtype, np.number) else num_col)"
   ]
  },
  {
   "cell_type": "code",
   "execution_count": null,
   "metadata": {},
   "outputs": [],
   "source": [
    "# Replace categorical nulls with the most used value\n",
    "df2 = df2.apply(lambda str_col: str_col.replace(np.nan, str_col.fillna(str_col.value_counts().index[0])) if np.issubdtype(str_col.dtype, np.string_) else str_col)"
   ]
  },
  {
   "cell_type": "code",
   "execution_count": null,
   "metadata": {},
   "outputs": [],
   "source": [
    "# Replace 'Attrition' Yes=1 No=0\n",
    "df2['Attrition'] = df2['Attrition'].apply(lambda x: 0 if x == 'No' else 1)"
   ]
  },
  {
   "cell_type": "code",
   "execution_count": null,
   "metadata": {},
   "outputs": [],
   "source": [
    "# Convert 'Attrition' to numeric\n",
    "df2['Attrition'] = df2['Attrition'].astype('int64')"
   ]
  },
  {
   "cell_type": "code",
   "execution_count": null,
   "metadata": {},
   "outputs": [],
   "source": [
    "# Replace 'OverTime' Yes=1 No=0\n",
    "df2['OverTime'] = df2['OverTime'].apply(lambda x: 0 if x == 'N' else 1)"
   ]
  },
  {
   "cell_type": "code",
   "execution_count": null,
   "metadata": {},
   "outputs": [],
   "source": [
    "# Convert 'OverTime' to numeric\n",
    "df2['OverTime'] = df2['OverTime'].astype('int64')"
   ]
  },
  {
   "cell_type": "code",
   "execution_count": null,
   "metadata": {},
   "outputs": [],
   "source": [
    "# Remove unwanted columns\n",
    "df2 = df2.drop(labels = ['Over18', 'StandardHours', 'EmployeeCount'], axis=1)"
   ]
  },
  {
   "cell_type": "code",
   "execution_count": null,
   "metadata": {},
   "outputs": [],
   "source": [
    "# Moving Response Variable to the last column\n",
    "front = df2['Attrition']\n",
    "df2.drop(labels=['Attrition'], axis=1,inplace=True)\n",
    "df2.insert(len(df2.columns),'Attrition',front)\n",
    "df2.head()"
   ]
  },
  {
   "cell_type": "code",
   "execution_count": null,
   "metadata": {},
   "outputs": [],
   "source": [
    "# Changing object types to categories\n",
    "cols = ['BusinessTravel','Department','EducationField','Gender','JobRole','MaritalStatus','OverTime']\n",
    "for col in cols:\n",
    "    df2[col] = df2[col].astype('category')"
   ]
  },
  {
   "cell_type": "code",
   "execution_count": null,
   "metadata": {},
   "outputs": [],
   "source": [
    "df2.info()"
   ]
  },
  {
   "cell_type": "code",
   "execution_count": null,
   "metadata": {},
   "outputs": [],
   "source": [
    "df2[cols].nunique()"
   ]
  },
  {
   "cell_type": "code",
   "execution_count": null,
   "metadata": {},
   "outputs": [],
   "source": [
    "for col in cols:\n",
    "    display(df2[col].value_counts())"
   ]
  },
  {
   "cell_type": "code",
   "execution_count": null,
   "metadata": {},
   "outputs": [],
   "source": [
    "# This function creates a dataframe for each feature in the dataset\n",
    "def table_df(x): \n",
    "    feature = df2.groupby(x).agg({'Attrition':['size', 'sum', 'mean']})\n",
    "    feature.columns = [' '.join(col).strip() for col in feature.columns.values]\n",
    "    feature = feature.reset_index()\n",
    "    feature['Attrition mean'] = feature['Attrition mean']*100\n",
    "    feature.columns = [x, 'Total Employees ', 'Attrition Number', \n",
    "                       '% of Attrition in the Relevant Group'] \n",
    "    feature['% of Attrition in the Company'] = (feature['Attrition Number'] / 237)*100\n",
    "    return feature"
   ]
  },
  {
   "cell_type": "code",
   "execution_count": null,
   "metadata": {},
   "outputs": [],
   "source": [
    "# This function creates graph for each feature in the dataset \n",
    "\n",
    "def graph_df(x, y = 'bar', z = 0):\n",
    "    feature = df2.groupby(x).agg({'Attrition':['size', 'sum', 'mean']})\n",
    "    feature.columns = [' '.join(col).strip() for col in feature.columns.values]\n",
    "    feature = feature.reset_index()\n",
    "    feature['Attrition mean'] = feature['Attrition mean']*100\n",
    "    feature.columns = [x, 'Total Employee', 'Attrition Number', \n",
    "                       '% of Attrition in the Relevant Group'] \n",
    "    \n",
    "    fig0, ax1 = plt.subplots()\n",
    "    ax2 = ax1.twinx()\n",
    "    feature.set_index(feature[x], drop=True, inplace=True)\n",
    "    feature['Total Employee'].plot(kind = y, stacked = True, ax = ax1, \n",
    "                                   colormap = 'winter', rot = z)\n",
    "    feature['% of Attrition in the Relevant Group'].plot(use_index = False, kind = 'line', ax = ax2, colormap='Spectral')\n",
    "    plt.title('Attrition compared to' + \" \" + x  + \" \" + \"Groups\")\n",
    "    ax1.set_xlabel(x)\n",
    "    ax1.yaxis.label.set_color('blue')\n",
    "    ax1.set_ylabel(\"Total Employees\")\n",
    "    ax2.set_ylabel(\"Attrition Percentage in the Relevant Group\")\n",
    "    ax2.yaxis.label.set_color('red')\n",
    "    plt.tight_layout()\n",
    "    plt.show()"
   ]
  },
  {
   "cell_type": "code",
   "execution_count": null,
   "metadata": {},
   "outputs": [],
   "source": [
    "# Create 'Age_Bin' bins\n",
    "table_df(x = 'Age')\n",
    "bins = [17, 21, 25, 35, 60]\n",
    "bin_names = ['(18-21)', '(22-25)', '(26-35)', '(36-60)']\n",
    "df2['Age_Bin'] = pd.cut(df2['Age'], bins, labels = bin_names)"
   ]
  },
  {
   "cell_type": "code",
   "execution_count": null,
   "metadata": {},
   "outputs": [],
   "source": [
    "# Create 'DistanceFromHome_Bin' bins\n",
    "table_df(x = 'DistanceFromHome')\n",
    "bins = [0, 3, 6, 10, 29]\n",
    "bin_names = ['1-3', '4-6', '7-10', '10+']\n",
    "df2['DistanceFromHome_Bin'] = pd.cut(df2['DistanceFromHome'], bins, labels = bin_names)"
   ]
  },
  {
   "cell_type": "code",
   "execution_count": null,
   "metadata": {},
   "outputs": [],
   "source": [
    "# Create 'Education_Bin' bins\n",
    "table_df(x = 'Education')\n",
    "df2['Education_Bin'] = df2['Education'].map({1:'Below College', 2:'College', 3:'Bachelor', 4:'Master', 5:'Doctor'})"
   ]
  },
  {
   "cell_type": "code",
   "execution_count": null,
   "metadata": {},
   "outputs": [],
   "source": [
    "# Create 'EnvironmentSatisfaction_Bin' bins\n",
    "table_df(x = 'EnvironmentSatisfaction')\n",
    "df2['EnvironmentSatisfaction_Bin'] = df2['EnvironmentSatisfaction'].map({1:'Low', 2:'Medium', 3:'High', 4:'Very High'})"
   ]
  },
  {
   "cell_type": "code",
   "execution_count": null,
   "metadata": {},
   "outputs": [],
   "source": [
    "# Create 'JobInvolvement_Bin' bins\n",
    "table_df(x = 'JobInvolvement')\n",
    "df2['JobInvolvement_Bin'] = df2['JobInvolvement'].map({1:'Low', 2:'Medium', 3:'High', 4:'Very High'})"
   ]
  },
  {
   "cell_type": "code",
   "execution_count": null,
   "metadata": {},
   "outputs": [],
   "source": [
    "# Create 'JobLevel_Bin' bins\n",
    "table_df(x = 'JobLevel')\n",
    "df2['JobLevel_Bin'] = df2['JobLevel'].map({1:'Level-1', 2:'Level-2', 3:'Level-3', 4:'Level-4', 5:'Level-5'})"
   ]
  },
  {
   "cell_type": "code",
   "execution_count": null,
   "metadata": {},
   "outputs": [],
   "source": [
    "# Create 'JobSatisfaction_Bin' bins \n",
    "table_df(x = 'JobSatisfaction')\n",
    "df2['JobSatisfaction_Bin'] = df2['JobSatisfaction'].map({1:'Low', 2:'Medium', 3:'High', 4:'Very High'})"
   ]
  },
  {
   "cell_type": "code",
   "execution_count": null,
   "metadata": {},
   "outputs": [],
   "source": [
    "# Create 'NumCompaniesWorked_Bin' bins\n",
    "table_df(x = 'NumCompaniesWorked')\n",
    "bins = [0, 1, 2, 3, 4, 5, 10]\n",
    "group_names = ['0', '1', '2', '3', '4', '5+']             \n",
    "df2['NumCompaniesWorked_Bin'] = pd.cut(df2['NumCompaniesWorked'], bins, labels = group_names, include_lowest = True, right = False)"
   ]
  },
  {
   "cell_type": "code",
   "execution_count": null,
   "metadata": {},
   "outputs": [],
   "source": [
    "# Create 'MonthlyIncome_Bin' bins\n",
    "table_df(x = \"MonthlyIncome\")\n",
    "bins = [1000, 2000, 3000, 4000, 5000, 7500, 9000, 11000, 15000, 20000]\n",
    "group_names = ['1000-2000', '2000-3000', '3000-4000', '4000-5000', '5000-7500', \n",
    "               '7500-9000', '9000-11000', '11000-15000', '15000-20000']             \n",
    "df2[\"MonthlyIncome_Bin\"] = pd.cut(df2[\"MonthlyIncome\"], bins, labels = group_names)"
   ]
  },
  {
   "cell_type": "code",
   "execution_count": null,
   "metadata": {},
   "outputs": [],
   "source": [
    "# Create 'PercentSalaryHike_Bin' bins\n",
    "table_df(x = 'PercentSalaryHike')\n",
    "bins = [10, 14, 18, 22, 25]\n",
    "group_names = ['11-14', '15-18', '19-22', '23-25']             \n",
    "df2['PercentSalaryHike_Bin'] = pd.cut(df2['PercentSalaryHike'], bins, labels = group_names)"
   ]
  },
  {
   "cell_type": "code",
   "execution_count": null,
   "metadata": {},
   "outputs": [],
   "source": [
    "# Labeling Relationship Satisfaction Levels\n",
    "table_df(x = 'RelationshipSatisfaction')\n",
    "df2['RelationshipSatisfaction_Bin'] = df2['RelationshipSatisfaction'].map({1:'Low', 2:'Medium', 3:'High', 4:'Very High'})"
   ]
  },
  {
   "cell_type": "code",
   "execution_count": null,
   "metadata": {},
   "outputs": [],
   "source": [
    "# Total Working Years & Attrition Table\n",
    "table_df(x = 'TotalWorkingYears')\n",
    "bins = [0, 1, 5, 10, 15, 20, 40]\n",
    "group_names = ['1', '2-5', '6-10', '11-15', '16-20', '20+']             \n",
    "df2['TotalWorkingYears_Bin'] = pd.cut(df2['TotalWorkingYears'], bins, labels = group_names, include_lowest = True)"
   ]
  },
  {
   "cell_type": "code",
   "execution_count": null,
   "metadata": {},
   "outputs": [],
   "source": [
    "# Labeling Work Life Balance Groups\n",
    "table_df(x = 'WorkLifeBalance')\n",
    "df2['WorkLifeBalance_Bin'] = df2['WorkLifeBalance'].map({1:'Bad', 2:'Good', 3:'Better', 4:'Best'})"
   ]
  },
  {
   "cell_type": "code",
   "execution_count": null,
   "metadata": {},
   "outputs": [],
   "source": [
    "# Labeling Years at Company Groups\n",
    "table_df(x = 'YearsAtCompany')\n",
    "bins = [0, 1, 5, 10, 40]\n",
    "group_names = ['1', '2-5', '6-10', '10+']             \n",
    "df2['YearsAtCompany_Bin'] = pd.cut(df2['YearsAtCompany'], bins, labels = group_names, include_lowest = True)"
   ]
  },
  {
   "cell_type": "code",
   "execution_count": null,
   "metadata": {},
   "outputs": [],
   "source": [
    "# Labeling Years in Current Role Groups\n",
    "table_df(x = 'YearsInCurrentRole')\n",
    "bins = [0, 1, 4, 6, 7, 10, 18]\n",
    "group_names = ['1', '2-4', '5-6', '7', '8-10', '10+']             \n",
    "df2['YearsInCurrentRole_Bin'] = pd.cut(df2['YearsInCurrentRole'], bins, labels = group_names, include_lowest = True)"
   ]
  },
  {
   "cell_type": "code",
   "execution_count": null,
   "metadata": {},
   "outputs": [],
   "source": [
    "# Labeling Years in Current Role Groups\n",
    "table_df(x = 'YearsSinceLastPromotion')\n",
    "bins = [0, 1, 2, 3, 4, 7, 8, 16]\n",
    "group_names = ['0', '1', '2', '3', '4-6', '7', '8+']             \n",
    "df2['YearsSinceLastPromotion_Bin'] = pd.cut(df2['YearsSinceLastPromotion'], bins, labels = group_names, include_lowest = True, right = False)"
   ]
  },
  {
   "cell_type": "code",
   "execution_count": null,
   "metadata": {},
   "outputs": [],
   "source": [
    "# Labeling Years with Current Manager Groups\n",
    "table_df(x = 'YearsWithCurrManager')\n",
    "bins = [0, 1, 2, 3, 4, 5, 6, 7, 8, 9, 10, 18]\n",
    "group_names = ['0', '1', '2', '3', '4', '5', '6', '7', '8', '9', '10+']             \n",
    "df2['YearsWithCurrManager_Bin'] = pd.cut(df2['YearsWithCurrManager'], bins, labels = group_names, include_lowest = True, right = False)"
   ]
  },
  {
   "cell_type": "markdown",
   "metadata": {},
   "source": [
    "Exploratory Data Analysis"
   ]
  },
  {
   "cell_type": "code",
   "execution_count": null,
   "metadata": {},
   "outputs": [],
   "source": [
    "# Target Variable\n",
    "sns.countplot(x=df2['Attrition'])\n",
    "# target = df['Attrition'].apply(lambda x: 'Active' if x == 0 else 'Churned')\n",
    "# sns.countplot(target)\n",
    "plt.title('Attrition in the Company')\n",
    "plt.xlabel('Attrition Status')\n",
    "plt.ylabel('Employee Number')\n",
    "plt.show()\n",
    "df['Attrition'].value_counts()"
   ]
  },
  {
   "cell_type": "code",
   "execution_count": null,
   "metadata": {},
   "outputs": [],
   "source": [
    "table_df(x = 'Age_Bin')"
   ]
  },
  {
   "cell_type": "code",
   "execution_count": null,
   "metadata": {},
   "outputs": [],
   "source": [
    "graph_df(x = 'Age_Bin')"
   ]
  },
  {
   "cell_type": "code",
   "execution_count": null,
   "metadata": {},
   "outputs": [],
   "source": [
    "# Business Travel & Attrition\n",
    "table_df(x = 'BusinessTravel')"
   ]
  },
  {
   "cell_type": "code",
   "execution_count": null,
   "metadata": {},
   "outputs": [],
   "source": [
    "graph_df(x = 'BusinessTravel')"
   ]
  },
  {
   "cell_type": "code",
   "execution_count": null,
   "metadata": {},
   "outputs": [],
   "source": [
    "# Gender & Attrition\n",
    "table_df(x = 'Gender')"
   ]
  },
  {
   "cell_type": "code",
   "execution_count": null,
   "metadata": {},
   "outputs": [],
   "source": [
    "graph_df(x = 'Gender')"
   ]
  },
  {
   "cell_type": "code",
   "execution_count": null,
   "metadata": {},
   "outputs": [],
   "source": [
    "table_df(x = 'YearsWithCurrManager_Bin')"
   ]
  },
  {
   "cell_type": "code",
   "execution_count": null,
   "metadata": {},
   "outputs": [],
   "source": [
    "graph_df(x = 'YearsWithCurrManager_Bin')"
   ]
  },
  {
   "cell_type": "code",
   "execution_count": null,
   "metadata": {},
   "outputs": [],
   "source": [
    "df2.head()"
   ]
  },
  {
   "cell_type": "code",
   "execution_count": null,
   "metadata": {},
   "outputs": [],
   "source": [
    "df2.columns.tolist()"
   ]
  },
  {
   "cell_type": "code",
   "execution_count": null,
   "metadata": {},
   "outputs": [],
   "source": [
    "# Save cleaned file\n",
    "file_name = ('HR-Employee-Attrition-Cleaned.csv')\n",
    "df2.to_csv(file_name, header=True)"
   ]
  }
 ],
 "metadata": {
  "kernelspec": {
   "display_name": "Python 3",
   "language": "python",
   "name": "python3"
  },
  "language_info": {
   "codemirror_mode": {
    "name": "ipython",
    "version": 3
   },
   "file_extension": ".py",
   "mimetype": "text/x-python",
   "name": "python",
   "nbconvert_exporter": "python",
   "pygments_lexer": "ipython3",
   "version": "3.11.4"
  },
  "orig_nbformat": 4
 },
 "nbformat": 4,
 "nbformat_minor": 2
}
